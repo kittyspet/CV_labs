{
 "cells": [
  {
   "cell_type": "code",
   "execution_count": 1,
   "metadata": {},
   "outputs": [],
   "source": [
    "# %pip install opencv-python numpy matplotlib "
   ]
  },
  {
   "cell_type": "markdown",
   "metadata": {},
   "source": [
    "# Домашняя работа №1"
   ]
  },
  {
   "cell_type": "code",
   "metadata": {
    "ExecuteTime": {
     "end_time": "2024-12-26T19:50:34.988891Z",
     "start_time": "2024-12-26T19:50:34.571758Z"
    }
   },
   "source": [
    "import cv2\n",
    "import numpy as np\n",
    "\n",
    "import matplotlib.pyplot as plt\n",
    "%matplotlib inline"
   ],
   "outputs": [],
   "execution_count": 23
  },
  {
   "cell_type": "code",
   "metadata": {
    "ExecuteTime": {
     "end_time": "2024-12-26T19:50:35.903916Z",
     "start_time": "2024-12-26T19:50:35.895786Z"
    }
   },
   "source": [
    "def plot_one_image(image: np.ndarray) -> None:\n",
    "    \"\"\"\n",
    "    Отобразить изображение с помощью matplotlib.\n",
    "    Вспомогательная функция.\n",
    "    \n",
    "    :param image: изображение для отображения\n",
    "    :return: None\n",
    "    \"\"\"\n",
    "    fig, axs = plt.subplots(1, 1, figsize=(8, 7))\n",
    "    \n",
    "    axs.imshow(image)\n",
    "    axs.axis('off')\n",
    "    plt.plot()"
   ],
   "outputs": [],
   "execution_count": 24
  },
  {
   "cell_type": "markdown",
   "metadata": {},
   "source": [
    "# Задача №1 - Лабиринт\n",
    "\n",
    "Реализуйте алгоритм поиска выхода из лабиринта по растровому изобажению.\n",
    "Вам нужно написать код, который будет находить путь (координаты пикселей) от заданного входа сверху до выхода снизу.\n",
    "\n",
    "Отрисуйте получившийся маршрут на карте с помощью функции ```plot_maze_path(img, coords)``` или воспользуйтесь вам известным графическим инструментом.\n",
    "\n",
    "__Input:__\n",
    "\n",
    "Изображение лабиринта в кодировке $RGB$.\n",
    "\n",
    "Все карты лежат на [яндекс-диске](https://yadi.sk/d/qEWVZk2picDdZw)\n",
    "\n",
    "__Ouput:__\n",
    "\n",
    "Массив координат пути через лабиринт в виде ```(np.array(x), np.array(y))```. \n",
    "\n",
    "Оценивается __каждое__ успешное решение лабиринта.\n",
    "Пример решенной задачи.<img src=\"https://b.radikal.ru/b22/1906/56/df991f2221a7.png\" width=\"300\">"
   ]
  },
  {
   "cell_type": "code",
   "metadata": {
    "ExecuteTime": {
     "end_time": "2024-12-26T19:50:40.019879Z",
     "start_time": "2024-12-26T19:50:40.011753Z"
    }
   },
   "source": [
    "from task_1 import find_way_from_maze"
   ],
   "outputs": [],
   "execution_count": 25
  },
  {
   "cell_type": "code",
   "metadata": {
    "ExecuteTime": {
     "end_time": "2024-12-26T19:50:41.944174Z",
     "start_time": "2024-12-26T19:50:41.933932Z"
    }
   },
   "source": [
    "def plot_maze_path(image: np.ndarray, coords: tuple) -> np.ndarray:\n",
    "    \"\"\"\n",
    "    Нарисовать путь через лабиринт на изображении. \n",
    "    Вспомогательная функция.\n",
    "     \n",
    "    :param image: изображение лабиринта\n",
    "    :param coords: координаты пути через лабиринт типа (x, y) где x и y - массивы координат точек\n",
    "    :return img_wpath: исходное изображение с отрисованными координатами \n",
    "    \"\"\"\n",
    "    if image.ndim != 3:\n",
    "        img = cv2.cvtColor(img, cv2.COLOR_GRAY2BGR)\n",
    "        \n",
    "    img_wpath = image.copy()\n",
    "    if coords:\n",
    "        x, y = coords\n",
    "        img_wpath[x, y, :] = [0, 0, 255]\n",
    "\n",
    "    return img_wpath"
   ],
   "outputs": [],
   "execution_count": 26
  },
  {
   "cell_type": "markdown",
   "metadata": {},
   "source": [
    "Загрузим тестовое изображение и отобразим его."
   ]
  },
  {
   "cell_type": "code",
   "metadata": {
    "ExecuteTime": {
     "end_time": "2024-12-26T19:50:46.559781Z",
     "start_time": "2024-12-26T19:50:46.394827Z"
    }
   },
   "source": [
    "test_image = cv2.imread('task_1/20 by 20 orthogonal maze.png')  # загрузить тестовую картинку\n",
    "\n",
    "plot_one_image(test_image)"
   ],
   "outputs": [
    {
     "data": {
      "text/plain": [
       "<Figure size 800x700 with 1 Axes>"
      ],
      "image/png": "[encoded data removed]"
     },
     "metadata": {},
     "output_type": "display_data"
    }
   ],
   "execution_count": 27
  },
  {
   "cell_type": "markdown",
   "metadata": {},
   "source": [
    "Теперь ваша задача реализовать функцию ```plot_maze_path``` в ```task_1.py``` для того, чтобы найти координаты пути через лабиринт."
   ]
  },
  {
   "cell_type": "code",
   "metadata": {
    "ExecuteTime": {
     "end_time": "2024-12-26T19:49:37.277226Z",
     "start_time": "2024-12-26T19:49:37.257598Z"
    }
   },
   "source": [
    "way_coords = find_way_from_maze(test_image)  # вычислить координаты пути через лабиринт\n",
    "\n",
    "image_with_way = plot_maze_path(test_image, way_coords)\n",
    "\n",
    "plot_one_image(image_with_way)"
   ],
   "outputs": [
    {
     "ename": "NameError",
     "evalue": "name 'find_way_from_maze' is not defined",
     "output_type": "error",
     "traceback": [
      "\u001B[1;31m---------------------------------------------------------------------------\u001B[0m",
      "\u001B[1;31mNameError\u001B[0m                                 Traceback (most recent call last)",
      "Cell \u001B[1;32mIn[18], line 1\u001B[0m\n\u001B[1;32m----> 1\u001B[0m way_coords \u001B[38;5;241m=\u001B[39m \u001B[43mfind_way_from_maze\u001B[49m(test_image)  \u001B[38;5;66;03m# вычислить координаты пути через лабиринт\u001B[39;00m\n\u001B[0;32m      3\u001B[0m image_with_way \u001B[38;5;241m=\u001B[39m plot_maze_path(test_image, way_coords)\n\u001B[0;32m      5\u001B[0m plot_one_image(image_with_way)\n",
      "\u001B[1;31mNameError\u001B[0m: name 'find_way_from_maze' is not defined"
     ]
    }
   ],
   "execution_count": 18
  },
  {
   "cell_type": "markdown",
   "metadata": {
    "ExecuteTime": {
     "end_time": "2020-09-08T19:12:44.349156Z",
     "start_time": "2020-09-08T19:12:44.326172Z"
    }
   },
   "source": [
    "# Задача №2 - Пробки в городе\n",
    "\n",
    "Требуется написать программу, которая на вход принимает картинку, на которой схематически изображена машинка на дороге с $N$ полосами и препятствия на полосах. Соответствующие объекты обозначены цветами, которые сохраняются на всех изображениях. \n",
    "\n",
    "Результатом работы программы является номер полосы, на которую нужно перестроиться или сообщение о том, что перестраиваться не нужно.\n",
    "\n",
    "**Примечание: номер дороги считается слева направо, отсчет начинается с нуля.**\n",
    "\n",
    "Примеры изображений:\n",
    "<table><tr>\n",
    "    <td> <img src=\"https://i.ibb.co/8z84sJG/image_00.jpg\" alt=\"Drawing\" style=\"width: 200px;\"/> </td>\n",
    "    <td> <img src=\"https://i.ibb.co/Z6m4XFz/image_01.jpg\" alt=\"Drawing\" style=\"width: 200px;\"/> </td>\n",
    "</tr></table>"
   ]
  },
  {
   "cell_type": "code",
   "metadata": {
    "ExecuteTime": {
     "end_time": "2024-12-26T19:40:44.048623Z",
     "start_time": "2024-12-26T19:40:43.944363Z"
    }
   },
   "source": [
    "from task_2 import find_road_number"
   ],
   "outputs": [],
   "execution_count": 4
  },
  {
   "cell_type": "code",
   "metadata": {
    "ExecuteTime": {
     "end_time": "2024-12-26T19:40:46.137798Z",
     "start_time": "2024-12-26T19:40:46.092796Z"
    }
   },
   "source": [
    "test_image = cv2.imread('task_2/image_01.jpg')\n",
    "test_image = cv2.cvtColor(test_image, cv2.COLOR_BGR2RGB)\n",
    "plot_one_image(test_image)"
   ],
   "outputs": [
    {
     "ename": "NameError",
     "evalue": "name 'cv2' is not defined",
     "output_type": "error",
     "traceback": [
      "\u001B[1;31m---------------------------------------------------------------------------\u001B[0m",
      "\u001B[1;31mNameError\u001B[0m                                 Traceback (most recent call last)",
      "Cell \u001B[1;32mIn[5], line 1\u001B[0m\n\u001B[1;32m----> 1\u001B[0m test_image \u001B[38;5;241m=\u001B[39m \u001B[43mcv2\u001B[49m\u001B[38;5;241m.\u001B[39mimread(\u001B[38;5;124m'\u001B[39m\u001B[38;5;124mtask_2/image_01.jpg\u001B[39m\u001B[38;5;124m'\u001B[39m)\n\u001B[0;32m      2\u001B[0m test_image \u001B[38;5;241m=\u001B[39m cv2\u001B[38;5;241m.\u001B[39mcvtColor(test_image, cv2\u001B[38;5;241m.\u001B[39mCOLOR_BGR2RGB)\n\u001B[0;32m      3\u001B[0m plot_one_image(test_image)\n",
      "\u001B[1;31mNameError\u001B[0m: name 'cv2' is not defined"
     ]
    }
   ],
   "execution_count": 5
  },
  {
   "cell_type": "code",
   "metadata": {
    "ExecuteTime": {
     "end_time": "2024-12-26T19:40:48.861328Z",
     "start_time": "2024-12-26T19:40:48.841732Z"
    }
   },
   "source": [
    "road_number = find_road_number(test_image)\n",
    "\n",
    "print(f'Нужно перестроиться на дорогу номер {road_number}')"
   ],
   "outputs": [
    {
     "ename": "NameError",
     "evalue": "name 'test_image' is not defined",
     "output_type": "error",
     "traceback": [
      "\u001B[1;31m---------------------------------------------------------------------------\u001B[0m",
      "\u001B[1;31mNameError\u001B[0m                                 Traceback (most recent call last)",
      "Cell \u001B[1;32mIn[6], line 1\u001B[0m\n\u001B[1;32m----> 1\u001B[0m road_number \u001B[38;5;241m=\u001B[39m find_road_number(\u001B[43mtest_image\u001B[49m)\n\u001B[0;32m      3\u001B[0m \u001B[38;5;28mprint\u001B[39m(\u001B[38;5;124mf\u001B[39m\u001B[38;5;124m'\u001B[39m\u001B[38;5;124mНужно перестроиться на дорогу номер \u001B[39m\u001B[38;5;132;01m{\u001B[39;00mroad_number\u001B[38;5;132;01m}\u001B[39;00m\u001B[38;5;124m'\u001B[39m)\n",
      "\u001B[1;31mNameError\u001B[0m: name 'test_image' is not defined"
     ]
    }
   ],
   "execution_count": 6
  },
  {
   "cell_type": "markdown",
   "metadata": {},
   "source": [
    "# Задача №3 - Аффинные преобразования"
   ]
  },
  {
   "cell_type": "markdown",
   "metadata": {},
   "source": [
    "## Задача №3.1 - Поверни изображение\n",
    "\n",
    "Реализуйте функцию, которая поворачивает изображение вокруг заданной точки на заданный угол ($0^\\circ-360^\\circ$) и преобразует размер изображения, чтобы оно не обрезалось после поворота."
   ]
  },
  {
   "cell_type": "code",
   "metadata": {
    "ExecuteTime": {
     "end_time": "2024-12-26T19:41:00.793375Z",
     "start_time": "2024-12-26T19:41:00.788377Z"
    }
   },
   "source": [
    "from task_3 import rotate"
   ],
   "outputs": [],
   "execution_count": 7
  },
  {
   "cell_type": "code",
   "metadata": {
    "ExecuteTime": {
     "end_time": "2024-12-26T19:41:01.293010Z",
     "start_time": "2024-12-26T19:41:01.270761Z"
    }
   },
   "source": [
    "test_image = cv2.imread('task_3/lk.jpg')\n",
    "test_image = cv2.cvtColor(test_image, cv2.COLOR_BGR2RGB)\n",
    "plot_one_image(test_image)"
   ],
   "outputs": [
    {
     "ename": "NameError",
     "evalue": "name 'cv2' is not defined",
     "output_type": "error",
     "traceback": [
      "\u001B[1;31m---------------------------------------------------------------------------\u001B[0m",
      "\u001B[1;31mNameError\u001B[0m                                 Traceback (most recent call last)",
      "Cell \u001B[1;32mIn[8], line 1\u001B[0m\n\u001B[1;32m----> 1\u001B[0m test_image \u001B[38;5;241m=\u001B[39m \u001B[43mcv2\u001B[49m\u001B[38;5;241m.\u001B[39mimread(\u001B[38;5;124m'\u001B[39m\u001B[38;5;124mtask_3/lk.jpg\u001B[39m\u001B[38;5;124m'\u001B[39m)\n\u001B[0;32m      2\u001B[0m test_image \u001B[38;5;241m=\u001B[39m cv2\u001B[38;5;241m.\u001B[39mcvtColor(test_image, cv2\u001B[38;5;241m.\u001B[39mCOLOR_BGR2RGB)\n\u001B[0;32m      3\u001B[0m plot_one_image(test_image)\n",
      "\u001B[1;31mNameError\u001B[0m: name 'cv2' is not defined"
     ]
    }
   ],
   "execution_count": 8
  },
  {
   "cell_type": "code",
   "metadata": {
    "ExecuteTime": {
     "end_time": "2024-12-26T19:41:01.901151Z",
     "start_time": "2024-12-26T19:41:01.890026Z"
    }
   },
   "source": [
    "test_point = (200, 200)\n",
    "test_angle = 15\n",
    "\n",
    "transformed_image = rotate(test_image, test_point, test_angle)\n",
    "plot_one_image(transformed_image)"
   ],
   "outputs": [
    {
     "ename": "NameError",
     "evalue": "name 'test_image' is not defined",
     "output_type": "error",
     "traceback": [
      "\u001B[1;31m---------------------------------------------------------------------------\u001B[0m",
      "\u001B[1;31mNameError\u001B[0m                                 Traceback (most recent call last)",
      "Cell \u001B[1;32mIn[9], line 4\u001B[0m\n\u001B[0;32m      1\u001B[0m test_point \u001B[38;5;241m=\u001B[39m (\u001B[38;5;241m200\u001B[39m, \u001B[38;5;241m200\u001B[39m)\n\u001B[0;32m      2\u001B[0m test_angle \u001B[38;5;241m=\u001B[39m \u001B[38;5;241m15\u001B[39m\n\u001B[1;32m----> 4\u001B[0m transformed_image \u001B[38;5;241m=\u001B[39m rotate(\u001B[43mtest_image\u001B[49m, test_point, test_angle)\n\u001B[0;32m      5\u001B[0m plot_one_image(transformed_image)\n",
      "\u001B[1;31mNameError\u001B[0m: name 'test_image' is not defined"
     ]
    }
   ],
   "execution_count": 9
  },
  {
   "cell_type": "markdown",
   "metadata": {},
   "source": [
    "Проверьте как это должно было получиться"
   ]
  },
  {
   "cell_type": "code",
   "metadata": {
    "ExecuteTime": {
     "end_time": "2024-12-26T19:41:02.997826Z",
     "start_time": "2024-12-26T19:41:02.974730Z"
    }
   },
   "source": [
    "result_image = cv2.imread('task_3/lk_rotate.jpg')\n",
    "result_image = cv2.cvtColor(result_image, cv2.COLOR_BGR2RGB)\n",
    "plot_one_image(result_image)"
   ],
   "outputs": [
    {
     "ename": "NameError",
     "evalue": "name 'cv2' is not defined",
     "output_type": "error",
     "traceback": [
      "\u001B[1;31m---------------------------------------------------------------------------\u001B[0m",
      "\u001B[1;31mNameError\u001B[0m                                 Traceback (most recent call last)",
      "Cell \u001B[1;32mIn[10], line 1\u001B[0m\n\u001B[1;32m----> 1\u001B[0m result_image \u001B[38;5;241m=\u001B[39m \u001B[43mcv2\u001B[49m\u001B[38;5;241m.\u001B[39mimread(\u001B[38;5;124m'\u001B[39m\u001B[38;5;124mtask_3/lk_rotate.jpg\u001B[39m\u001B[38;5;124m'\u001B[39m)\n\u001B[0;32m      2\u001B[0m result_image \u001B[38;5;241m=\u001B[39m cv2\u001B[38;5;241m.\u001B[39mcvtColor(result_image, cv2\u001B[38;5;241m.\u001B[39mCOLOR_BGR2RGB)\n\u001B[0;32m      3\u001B[0m plot_one_image(result_image)\n",
      "\u001B[1;31mNameError\u001B[0m: name 'cv2' is not defined"
     ]
    }
   ],
   "execution_count": 10
  },
  {
   "cell_type": "markdown",
   "metadata": {},
   "source": [
    "## Задача №3.2 - Афинные преобразования\n",
    "\n",
    "Реализуйте функцию, которая применяет афинное преобразование между заданными точками на исходном изображении и преобразует размер получившегося изображения, чтобы оно не обрезалось."
   ]
  },
  {
   "cell_type": "code",
   "metadata": {
    "ExecuteTime": {
     "end_time": "2024-12-26T19:41:04.119913Z",
     "start_time": "2024-12-26T19:41:04.109410Z"
    }
   },
   "source": [
    "from task_3 import apply_warpAffine"
   ],
   "outputs": [],
   "execution_count": 11
  },
  {
   "cell_type": "code",
   "metadata": {
    "ExecuteTime": {
     "end_time": "2024-12-26T19:41:04.556208Z",
     "start_time": "2024-12-26T19:41:04.530687Z"
    }
   },
   "source": [
    "test_image = cv2.imread('task_3/lk.jpg')\n",
    "test_image = cv2.cvtColor(test_image, cv2.COLOR_BGR2RGB)\n",
    "plot_one_image(test_image)"
   ],
   "outputs": [
    {
     "ename": "NameError",
     "evalue": "name 'cv2' is not defined",
     "output_type": "error",
     "traceback": [
      "\u001B[1;31m---------------------------------------------------------------------------\u001B[0m",
      "\u001B[1;31mNameError\u001B[0m                                 Traceback (most recent call last)",
      "Cell \u001B[1;32mIn[12], line 1\u001B[0m\n\u001B[1;32m----> 1\u001B[0m test_image \u001B[38;5;241m=\u001B[39m \u001B[43mcv2\u001B[49m\u001B[38;5;241m.\u001B[39mimread(\u001B[38;5;124m'\u001B[39m\u001B[38;5;124mtask_3/lk.jpg\u001B[39m\u001B[38;5;124m'\u001B[39m)\n\u001B[0;32m      2\u001B[0m test_image \u001B[38;5;241m=\u001B[39m cv2\u001B[38;5;241m.\u001B[39mcvtColor(test_image, cv2\u001B[38;5;241m.\u001B[39mCOLOR_BGR2RGB)\n\u001B[0;32m      3\u001B[0m plot_one_image(test_image)\n",
      "\u001B[1;31mNameError\u001B[0m: name 'cv2' is not defined"
     ]
    }
   ],
   "execution_count": 12
  },
  {
   "cell_type": "code",
   "metadata": {
    "ExecuteTime": {
     "end_time": "2024-12-26T19:41:05.123267Z",
     "start_time": "2024-12-26T19:41:05.102244Z"
    }
   },
   "source": [
    "test_point_1 = np.float32([[50, 50], [400, 50], [50, 200]])\n",
    "test_point_2 = np.float32([[100, 100], [200, 20], [100, 250]]) \n",
    "\n",
    "transformed_image = apply_warpAffine(test_image, test_point_1, test_point_2)\n",
    "plot_one_image(transformed_image)"
   ],
   "outputs": [
    {
     "ename": "NameError",
     "evalue": "name 'np' is not defined",
     "output_type": "error",
     "traceback": [
      "\u001B[1;31m---------------------------------------------------------------------------\u001B[0m",
      "\u001B[1;31mNameError\u001B[0m                                 Traceback (most recent call last)",
      "Cell \u001B[1;32mIn[13], line 1\u001B[0m\n\u001B[1;32m----> 1\u001B[0m test_point_1 \u001B[38;5;241m=\u001B[39m \u001B[43mnp\u001B[49m\u001B[38;5;241m.\u001B[39mfloat32([[\u001B[38;5;241m50\u001B[39m, \u001B[38;5;241m50\u001B[39m], [\u001B[38;5;241m400\u001B[39m, \u001B[38;5;241m50\u001B[39m], [\u001B[38;5;241m50\u001B[39m, \u001B[38;5;241m200\u001B[39m]])\n\u001B[0;32m      2\u001B[0m test_point_2 \u001B[38;5;241m=\u001B[39m np\u001B[38;5;241m.\u001B[39mfloat32([[\u001B[38;5;241m100\u001B[39m, \u001B[38;5;241m100\u001B[39m], [\u001B[38;5;241m200\u001B[39m, \u001B[38;5;241m20\u001B[39m], [\u001B[38;5;241m100\u001B[39m, \u001B[38;5;241m250\u001B[39m]]) \n\u001B[0;32m      4\u001B[0m transformed_image \u001B[38;5;241m=\u001B[39m apply_warpAffine(test_image, test_point_1, test_point_2)\n",
      "\u001B[1;31mNameError\u001B[0m: name 'np' is not defined"
     ]
    }
   ],
   "execution_count": 13
  },
  {
   "cell_type": "markdown",
   "metadata": {},
   "source": [
    "Проверьте как это должно было получиться"
   ]
  },
  {
   "cell_type": "code",
   "metadata": {
    "ExecuteTime": {
     "end_time": "2024-12-26T19:41:06.542009Z",
     "start_time": "2024-12-26T19:41:06.527881Z"
    }
   },
   "source": [
    "result_image = cv2.imread('task_3/lk_affine.jpg')\n",
    "result_image = cv2.cvtColor(result_image, cv2.COLOR_BGR2RGB)\n",
    "plot_one_image(result_image)"
   ],
   "outputs": [
    {
     "ename": "NameError",
     "evalue": "name 'cv2' is not defined",
     "output_type": "error",
     "traceback": [
      "\u001B[1;31m---------------------------------------------------------------------------\u001B[0m",
      "\u001B[1;31mNameError\u001B[0m                                 Traceback (most recent call last)",
      "Cell \u001B[1;32mIn[14], line 1\u001B[0m\n\u001B[1;32m----> 1\u001B[0m result_image \u001B[38;5;241m=\u001B[39m \u001B[43mcv2\u001B[49m\u001B[38;5;241m.\u001B[39mimread(\u001B[38;5;124m'\u001B[39m\u001B[38;5;124mtask_3/lk_affine.jpg\u001B[39m\u001B[38;5;124m'\u001B[39m)\n\u001B[0;32m      2\u001B[0m result_image \u001B[38;5;241m=\u001B[39m cv2\u001B[38;5;241m.\u001B[39mcvtColor(result_image, cv2\u001B[38;5;241m.\u001B[39mCOLOR_BGR2RGB)\n\u001B[0;32m      3\u001B[0m plot_one_image(result_image)\n",
      "\u001B[1;31mNameError\u001B[0m: name 'cv2' is not defined"
     ]
    }
   ],
   "execution_count": 14
  },
  {
   "metadata": {},
   "cell_type": "code",
   "outputs": [],
   "execution_count": null,
   "source": ""
  }
 ],
 "metadata": {
  "hide_input": false,
  "kernelspec": {
   "display_name": ".venv",
   "language": "python",
   "name": "python3"
  },
  "language_info": {
   "codemirror_mode": {
    "name": "ipython",
    "version": 3
   },
   "file_extension": ".py",
   "mimetype": "text/x-python",
   "name": "python",
   "nbconvert_exporter": "python",
   "pygments_lexer": "ipython3",
   "version": "3.12.4"
  },
  "toc": {
   "base_numbering": 1,
   "nav_menu": {},
   "number_sections": true,
   "sideBar": true,
   "skip_h1_title": false,
   "title_cell": "Table of Contents",
   "title_sidebar": "Contents",
   "toc_cell": false,
   "toc_position": {},
   "toc_section_display": true,
   "toc_window_display": true
  },
  "varInspector": {
   "cols": {
    "lenName": 16,
    "lenType": 16,
    "lenVar": 40
   },
   "kernels_config": {
    "python": {
     "delete_cmd_postfix": "",
     "delete_cmd_prefix": "del ",
     "library": "var_list.py",
     "varRefreshCmd": "print(var_dic_list())"
    },
    "r": {
     "delete_cmd_postfix": ") ",
     "delete_cmd_prefix": "rm(",
     "library": "var_list.r",
     "varRefreshCmd": "cat(var_dic_list()) "
    }
   },
   "types_to_exclude": [
    "module",
    "function",
    "builtin_function_or_method",
    "instance",
    "_Feature"
   ],
   "window_display": false
  }
 },
 "nbformat": 4,
 "nbformat_minor": 4
}
